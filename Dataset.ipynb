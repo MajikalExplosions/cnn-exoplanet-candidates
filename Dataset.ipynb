{
 "cells": [
  {
   "cell_type": "code",
   "execution_count": 1,
   "metadata": {},
   "outputs": [],
   "source": [
    "import importlib\n",
    "import findstars\n",
    "import cleanstars\n",
    "import numpy as np\n",
    "importlib.reload(findstars)\n",
    "importlib.reload(cleanstars)\n",
    "findstars.TICStar.load(clean = True)\n",
    "\n",
    "np.set_printoptions(suppress = True)"
   ]
  },
  {
   "cell_type": "code",
   "execution_count": null,
   "metadata": {},
   "outputs": [],
   "source": [
    "#Check validity of TOI stars\n",
    "count = 0\n",
    "total = 0\n",
    "for tic in findstars.TICStar._stars.keys():\n",
    "    total += 1\n",
    "    if findstars.TICStar._stars[tic].is_valid_star():\n",
    "        count += 1\n",
    "        print(count, \"/\", total)"
   ]
  },
  {
   "cell_type": "code",
   "execution_count": 3,
   "metadata": {},
   "outputs": [
    {
     "name": "stdout",
     "output_type": "stream",
     "text": [
      "0\n"
     ]
    }
   ],
   "source": [
    "#Find non-TOI stars\n",
    "count = 0\n",
    "while count < 0:\n",
    "    res = findstars.TICStar.find_random_stars()\n",
    "    for star in res:\n",
    "        count += 1\n",
    "        print(\"Found:\", star.tic, \"(#\" + str(count) + \")\")\n",
    "print(count)"
   ]
  },
  {
   "cell_type": "code",
   "execution_count": null,
   "metadata": {},
   "outputs": [],
   "source": [
    "valid1 = [tic for tic in findstars.TICStar._stars.keys() if findstars.TICStar._stars[tic].is_valid_star() and findstars.TICStar._stars[tic].is_planet_candidate]\n",
    "valid2 = [tic for tic in findstars.TICStar._stars.keys() if findstars.TICStar._stars[tic].is_valid_star() and not findstars.TICStar._stars[tic].is_planet_candidate]\n",
    "print(len(valid1), len(valid2))\n"
   ]
  },
  {
   "cell_type": "code",
   "execution_count": null,
   "metadata": {},
   "outputs": [],
   "source": [
    "#Download all stars\n",
    "to_download = [findstars.TICStar._stars[tic] for tic in findstars.TICStar._stars.keys() if findstars.TICStar._stars[tic].is_valid_star() and not findstars.TICStar._stars[tic].downloaded]\n",
    "print(\"Downloading\", len(to_download), \"stars.\")\n",
    "for star in to_download:\n",
    "    print(\"Downloading\", star.tic)\n",
    "    star.download_tpfs()\n",
    "print(\"Finished downloading.\")"
   ]
  },
  {
   "cell_type": "code",
   "execution_count": null,
   "metadata": {},
   "outputs": [],
   "source": [
    "#Clean all downloaded stars\n",
    "ds = findstars.TICStar._downloaded_stars()\n",
    "for i in range(0, len(ds)):\n",
    "    tic = ds[i]\n",
    "    \n",
    "    if i % 1 == 0:\n",
    "        print(i, \"/\", len(ds), \":\", tic)\n",
    "    \n",
    "    star = findstars.TICStar._stars[tic]\n",
    "    data = cleanstars.clean_star(star, 7)\n",
    "print(\"Done.\")"
   ]
  },
  {
   "cell_type": "code",
   "execution_count": 5,
   "metadata": {},
   "outputs": [],
   "source": [
    "#Export to csv for model\n",
    "csv_str = \"\"\n",
    "for tic in findstars.TICStar._downloaded_stars():\n",
    "    star = findstars.TICStar._stars[tic]\n",
    "    csv_str += str(tic) + \" \" + (\"1\" if star.is_planet_candidate else \"0\") + \"\\n\"\n",
    "f = open(\"res/dataset.csv\", \"w\")\n",
    "f.truncate()\n",
    "f.write(csv_str)\n",
    "f.close()"
   ]
  },
  {
   "cell_type": "code",
   "execution_count": null,
   "metadata": {},
   "outputs": [
    {
     "name": "stdout",
     "output_type": "stream",
     "text": [
      "Old Not New: 30\n",
      "New Not Old: 864\n",
      "New: 1148\n",
      "Old: 314\n"
     ]
    }
   ],
   "source": [
    "#Why list so short? Check here.\n",
    "import pandas as pd\n",
    "valid = [tic for tic in findstars.TICStar._stars.keys() if findstars.TICStar._stars[tic].is_valid_star() and findstars.TICStar._stars[tic].is_planet_candidate]\n",
    "old_valid = pd.read_csv(\"res/old_dataset.csv\")\n",
    "old_valid = old_valid[old_valid[\"is_candidate\"] == 1][\"toi\"].values\n",
    "missing = []\n",
    "for item in old_valid:\n",
    "    if item not in valid:\n",
    "        missing.append(item)\n",
    "missing2 = []\n",
    "index = 0\n",
    "for item in valid:\n",
    "    index += 1\n",
    "    if item not in old_valid:\n",
    "        missing2.append(item)\n",
    "print(\"Old Not New:\", len(missing))\n",
    "print(\"New Not Old:\", len(missing2))\n",
    "print(\"New:\", len(valid))\n",
    "print(\"Old:\", len(old_valid))"
   ]
  },
  {
   "cell_type": "code",
   "execution_count": null,
   "metadata": {},
   "outputs": [
    {
     "name": "stdout",
     "output_type": "stream",
     "text": [
      "274 507\n"
     ]
    }
   ],
   "source": [
    "#Check size of classes"
   ]
  },
  {
   "cell_type": "code",
   "execution_count": null,
   "metadata": {},
   "outputs": [],
   "source": []
  }
 ],
 "metadata": {
  "kernelspec": {
   "display_name": "Python 3 (ipykernel)",
   "language": "python",
   "name": "python3"
  },
  "language_info": {
   "codemirror_mode": {
    "name": "ipython",
    "version": 3
   },
   "file_extension": ".py",
   "mimetype": "text/x-python",
   "name": "python",
   "nbconvert_exporter": "python",
   "pygments_lexer": "ipython3",
   "version": "3.8.8"
  }
 },
 "nbformat": 4,
 "nbformat_minor": 4
}
